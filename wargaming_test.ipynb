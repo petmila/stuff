{
 "cells": [
  {
   "cell_type": "markdown",
   "metadata": {},
   "source": [
    "##### Задание 1\n",
    "В таком варианте реализации мы сначала убираем самый маленький разряд числа, а затем дописываем вместо него 0. Таким образом мы получаем четное число, либо равное исходному, либо меньшее на единицу.\n",
    "\n",
    "Побитовые операции работают быстрее, однако код из примера лучше читается и воспринимается человеком."
   ]
  },
  {
   "cell_type": "code",
   "execution_count": null,
   "metadata": {},
   "outputs": [],
   "source": [
    "def is_even(value):\n",
    "    return value == (value >> 1) << 1\n",
    "\n",
    "print(\"3 \", is_even(3))\n",
    "print(\"4 \", is_even(4))"
   ]
  },
  {
   "cell_type": "markdown",
   "metadata": {},
   "source": [
    "##### Задание 2\n",
    "##### Первый вариант реализации кольцевого буфера:\n",
    "Фиксированный размер, вставка и удаление элементов - за O(1). Элементы записываются, пока буфер не будет заполнен. Затем запись будет доступна только после удаления хотя бы одного элемента. \n",
    "Для того, чтобы поменять размер буфера, копируется все содержимое старого массива в новый. \n",
    "Данная реализация хороша для статического буфера."
   ]
  },
  {
   "cell_type": "code",
   "execution_count": 13,
   "metadata": {},
   "outputs": [],
   "source": [
    "class Buffer:\n",
    "    def __init__(self, capacity):\n",
    "        self.size = 0\n",
    "        self.capacity = capacity\n",
    "        self.buffer = [None]*capacity\n",
    "        self.tail = -1\n",
    "        self.head = 0\n",
    "\n",
    "    def push(self, value):\n",
    "        self.tail += 1\n",
    "        if self.size == self.capacity:\n",
    "            print(\"Buffer is full\")\n",
    "            self.tail -= 1\n",
    "            return \"error\"\n",
    "        self.size += 1\n",
    "        self.tail = self.tail % self.capacity\n",
    "        self.buffer[self.tail] = value\n",
    "    \n",
    "    def pop(self):\n",
    "        if self.size == 0:\n",
    "            print(\"Buffer is empty\")\n",
    "            return \"error\"\n",
    "        self.head += 1\n",
    "        self.size -= 1\n",
    "        self.head = self.head % self.capacity\n",
    "        return self.buffer[self.head - 1]\n",
    "\n",
    "    def get(self):\n",
    "        if self.size == 0:\n",
    "            return []\n",
    "        if self.tail >= self.head:\n",
    "            return self.buffer[self.head:self.tail + 1]\n",
    "        else:\n",
    "            return self.buffer[self.head:] + self.buffer[:self.tail + 1]\n",
    "    def resize(self, value):\n",
    "        new_buffer = [None]*value\n",
    "        i = self.head\n",
    "        j = -1\n",
    "        while j < self.capacity:\n",
    "            j += 1\n",
    "            new_buffer[j] = self.buffer[i]\n",
    "            i += 1\n",
    "            i %= self.capacity\n",
    "        self.tail = j - 1\n",
    "        self.head = 0    \n",
    "        self.capacity = value\n",
    "        self.buffer = new_buffer\n"
   ]
  },
  {
   "cell_type": "code",
   "execution_count": 16,
   "metadata": {},
   "outputs": [
    {
     "name": "stdout",
     "output_type": "stream",
     "text": [
      "[1]\n",
      "[1, '2']\n",
      "[1, '2', 3]\n",
      "Buffer is full\n",
      "[1, '2', 3]\n",
      "[1, '2', 3, 4]\n",
      "1\n",
      "['2', 3, 4]\n",
      "['2', 3, 4, 5]\n",
      "2\n",
      "[3, 4, 5]\n",
      "3\n",
      "[4, 5]\n",
      "4\n",
      "[5]\n",
      "5\n",
      "[]\n"
     ]
    }
   ],
   "source": [
    "my_buffer = Buffer(3)\n",
    "my_buffer.push(1)\n",
    "print(my_buffer.get())\n",
    "my_buffer.push(\"2\")\n",
    "print(my_buffer.get())\n",
    "my_buffer.push(3)\n",
    "print(my_buffer.get())\n",
    "# 4 уже не запишется, буфер заполнен\n",
    "my_buffer.push(4) \n",
    "print(my_buffer.get())\n",
    "my_buffer.resize(4)\n",
    "my_buffer.push(4) \n",
    "print(my_buffer.get())\n",
    "print(my_buffer.pop())\n",
    "print(my_buffer.get())\n",
    "my_buffer.push(5)\n",
    "print(my_buffer.get())\n",
    "print(my_buffer.pop())\n",
    "print(my_buffer.get())\n",
    "print(my_buffer.pop())\n",
    "print(my_buffer.get())\n",
    "print(my_buffer.pop())\n",
    "print(my_buffer.get())\n",
    "print(my_buffer.pop())\n",
    "print(my_buffer.get())"
   ]
  },
  {
   "cell_type": "markdown",
   "metadata": {},
   "source": [
    "##### Второй вариант реализации:\n",
    "Односвязный список объектов.\n",
    "\n",
    "Размер буфера можно будет изменить. Для этого нужно будет всего лишь добавить новый элемент, и добавить ему  \"ссылку\" на начало списка. Динамический буфер записывает элементы, пока не дойдет до заданного размера. После этого его можно увеличить функцией, задав новый размер. Вставка и удаление также происходит за О(1). "
   ]
  },
  {
   "cell_type": "code",
   "execution_count": 1,
   "metadata": {},
   "outputs": [],
   "source": [
    "class Item:\n",
    "    def __init__(self, value):\n",
    "        self.value = value\n",
    "        self.next_item = None\n",
    "\n",
    "class DinBuffer:\n",
    "    def __init__(self, size):\n",
    "        self.head = None\n",
    "        self.tail = None\n",
    "        self.capacity = size\n",
    "        self.size = 0\n",
    "\n",
    "    def push(self, value):\n",
    "        if self.size == self.capacity:\n",
    "            print(\"Buffer is full\")\n",
    "            return \"error\"\n",
    "        self.size += 1\n",
    "        my_item = Item(value)\n",
    "        if self.head == None:\n",
    "            self.head = my_item\n",
    "            self.tail = my_item\n",
    "        else:\n",
    "            self.tail.next_item = my_item\n",
    "            self.tail = my_item\n",
    "            self.tail.next_item = self.head\n",
    "        \n",
    "    def pop(self):\n",
    "        if self.size == 0:\n",
    "            print(\"Buffer is empty\")\n",
    "            return \"error\"\n",
    "        self.size -= 1\n",
    "        value = self.head.value\n",
    "        self.head = self.head.next_item\n",
    "        self.tail.next_item = self.head\n",
    "        return value\n",
    "    \n",
    "    def resize(self, value):\n",
    "        self.capacity = value\n"
   ]
  },
  {
   "cell_type": "code",
   "execution_count": 2,
   "metadata": {},
   "outputs": [
    {
     "name": "stdout",
     "output_type": "stream",
     "text": [
      "Buffer is full\n",
      "1\n",
      "2\n",
      "3\n"
     ]
    }
   ],
   "source": [
    "my_buff = DinBuffer(1)\n",
    "my_buff.push(1)\n",
    "my_buff.push(2)\n",
    "my_buff.resize(3)\n",
    "my_buff.push(2)\n",
    "my_buff.push(3)\n",
    "print(my_buff.pop())\n",
    "print(my_buff.pop())\n",
    "print(my_buff.pop())"
   ]
  },
  {
   "cell_type": "markdown",
   "metadata": {},
   "source": [
    "##### Задание 3\n",
    "Я думаю, quicksort подойдет лучше всего. Если брать в качестве опорного рандомный элемент, то даже в случае, когда массив отсортирован, при разбиении мы не получим слишком отличающиеся по размерам подмассивы. А значит вероятность худшего случая будет мала. В большинстве случаев сортировка будет работать за O(nlogn)"
   ]
  },
  {
   "cell_type": "code",
   "execution_count": null,
   "metadata": {},
   "outputs": [],
   "source": [
    "import random\n",
    "def Partition(array_init, start, end):\n",
    "    pivot_ind = random.randint(start, end)\n",
    "    pivot = array_init[pivot_ind]\n",
    "    array_init[pivot_ind], array_init[end] = array_init[end], array_init[pivot_ind]\n",
    "    i = start - 1\n",
    "    for j in range(start,end):\n",
    "        if array_init[j] <= pivot:\n",
    "            i += 1\n",
    "            array_init[i], array_init[j] = array_init[j], array_init[i]\n",
    "    array_init[i + 1], array_init[end] = array_init[end], array_init[i + 1]\n",
    "    return i + 1\n",
    "  \n",
    "def QuickSort(array_init, start, end):\n",
    "    if start < end:\n",
    "        divide = Partition(array_init, start, end)\n",
    "        QuickSort(array_init, start, divide - 1)\n",
    "        QuickSort(array_init, divide + 1, end)\n",
    "  \n",
    "array_init = list(map(int,input().split()))\n",
    "QuickSort(array_init, 0, len(array_init) - 1)\n",
    "  \n",
    "print(' '.join(map(str, array_init)))"
   ]
  }
 ],
 "metadata": {
  "kernelspec": {
   "display_name": "Python 3.8.1 32-bit (system)",
   "language": "python",
   "name": "python3"
  },
  "language_info": {
   "codemirror_mode": {
    "name": "ipython",
    "version": 3
   },
   "file_extension": ".py",
   "mimetype": "text/x-python",
   "name": "python",
   "nbconvert_exporter": "python",
   "pygments_lexer": "ipython3",
   "version": "3.8.1"
  },
  "orig_nbformat": 4,
  "vscode": {
   "interpreter": {
    "hash": "b2ea904a2c97cd898af601d42a28fa3cd893b396ee86983298d1e1cab06a9de8"
   }
  }
 },
 "nbformat": 4,
 "nbformat_minor": 2
}
